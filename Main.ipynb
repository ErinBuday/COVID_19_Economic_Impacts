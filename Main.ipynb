{
 "cells": [
  {
   "cell_type": "code",

   "execution_count": 1,
   "id": "46bff3e9",
   "metadata": {},
   "outputs": [],
   "source": [
    "import matplotlib.pyplot as plt\n",
    "import pandas as pd\n",
    "import numpy as np\n",
    "import requests\n",
    "import datetime as dt\n",
    "from scipy.stats import linregress"
   ]
  },
  {
   "cell_type": "code",
   "execution_count": 10,
   "id": "2a7dad4d",
   "metadata": {},
   "outputs": [
    {
     "data": {
      "text/plain": [
       "11"
      ]
     },
     "execution_count": 10,
     "metadata": {},
     "output_type": "execute_result"
    }
   ],
   "source": [
    "glb_ind = [\"S&P 500\", \"DJI\", \"^IXIC\", \"^BUK100P\", \"^GDAXI\", \"^FCHI\", \"^N225\", \"000001.SS\",\"^HSI\",\"^KS11\",\"IMOEX.ME\"]\n",
    "etf = {\"S&P 500\":\"SPY\", \"DJI\": \"DIA\"}\n",
    "region = {\"S&P 500\":\"US\", \"DJI\":\"US\", \"^IXIC\":\"US\", \"^BUK100P\": \"UK\", \"^GDAXI\":\"GE\", \"^FCHI\":\"FR\", \"^N225\": \"JP\", \n",
    "          \"000001.SS\":\"CN\", \"^HSI\":\"HK\", \"^KS11\":\"KOR\", \"IMOEX.ME\":\"RU\"}\n",
    "\n",
    "#If not in this dict, the currency is USD. If in this list, will be converted to USD\n",
    "currency = {\"^BUK100P\":\"GBP\",\"^GDAXI\":\"EUR\", \"^FCHI\":\"EUR\", \"^N225\": \"JPY\", \"000001.SS\":\"CNY\",\"^HSI\":\"HKD\",\"^KS11\":\"KRW\",\n",
    "           \"IMOEX.ME\":\"RUB\"}\n",
    "len(glb_ind)"
   ]
  },
  {
   "cell_type": "code",
   "execution_count": null,
   "id": "3d380db4",
=======
   "execution_count": null,
   "id": "7eeedfc5",
    
   "metadata": {},
   "outputs": [],
   "source": []
  }
 ],
 "metadata": {
  "kernelspec": {
   "display_name": "Python 3 (ipykernel)",
   "language": "python",
   "name": "python3"
  },
  "language_info": {
   "codemirror_mode": {
    "name": "ipython",
    "version": 3
   },
   "file_extension": ".py",
   "mimetype": "text/x-python",
   "name": "python",
   "nbconvert_exporter": "python",
   "pygments_lexer": "ipython3",
   "version": "3.9.7"
  }
 },
 "nbformat": 4,
 "nbformat_minor": 5
}
